{
 "cells": [
  {
   "attachments": {},
   "cell_type": "markdown",
   "metadata": {},
   "source": [
    "# Theory\n",
    "## High-Level Description of the Duckiedrone PID Stack\n",
    "The drone platform utilizes a number of PID controllers to autonomously control its motion. The standard PID class implements the discrete version of the ideal PID control function. The control output returned is the sum of the proportional, integral, and derivative terms, as well as an offset constant term, which is the base control output before being corrected in response to the calculated error. A specified control range keeps the control output within predefined bounds.\n",
    "\n",
    "### Cascaded Position and Velocity Controllers\n",
    "The flight command for the drone consists of four pulse-width modulation (pwm) values that are sent to the flight controller and translated into motor speeds to set the drone's roll, pitch, yaw, and throttle, respectively. When the drone attempts to hover with zero velocity, or when a velocity command is sent from the web interface, the error between the commanded velocity and the actual velocity of the drone (determined by optical flow) is calculated. The x-velocity error serves as input to the roll PID controllers and the y-velocity error serves as input to the pitch PID controllers. For the throttle PID controllers, the z-position error is used as input. The z-velocity error is not used because the actual z-position of the drone is directly measured by the infrared sensor, and is thus easier to control, while the camera estimation of the z-velocity is not as accurate. The output of each controller is then used to set the roll, pitch, and throttle commands to achieve the desired velocity.\n",
    "\n",
    "To accomplish position hold on the drone, cascaded PID controllers are utilized. The outer control loop is concerned with the position of the drone, and the inner control loop changes the velocity of the drone in order to attain the desired position. The two position PID controllers (one for front-back planar motion and the other for left-right planar motion) each calculate a setpoint velocity based on position error, which serves as input to the velocity PID controller. The roll, pitch, and throttle PID controllers then compute the appropriate flight commands based on the difference between the current velocity and this setpoint velocity.  \n",
    "\n",
    "### Low and High Integral Terms\n",
    "The drone requires two PID controllers to control each of its roll, pitch, and throttle. One controller has a fast-changing integral term with a high $K_i$ value, while the other controller has a slow-changing integral term with a low $K_i$ value. The inclusion of the low integral controller is intended to adjust for systemic sources of error, such as poor weight distribution or a damaged propeller. If the magnitude of the calculated velocity error is below a certain threshold, the flight command is set to the control output of its low integral controller and the integral term of its high integral controller is reset to zero. This helps to prevent integral wind-up for the high integral controller (the throttle PID controllers also use an integral term control range to bound the the value of the integral term and prevent wind-up). If the calculated velocity error is above the specified threshold, it is constrained within a preset range. The flight command is calculated by adding the integral term of the low integral PID controller to the overall control output of the high integral PID controller.\n",
    "\n",
    "### Derivative Smoothing\n",
    "In order to address the derivative term's sensitivity to high-frequency noise, the derivative term is smoothed over by taking a weighted mean of the past three derivative terms.  A derivative term control range is also used to constrict the values of the derivative term for the throttle PID controllers.\n"
   ]
  },
  {
   "attachments": {},
   "cell_type": "markdown",
   "metadata": {},
   "source": [
    "# Activity\n",
    "\n",
    "## PID on the Duckiedrone\n",
    "Sometimes a PID controller will have an extra offset/bias term $K$ in the control function (see the equation below). For the drone, this $K$ is the base throttle needed to get the drone off the ground.\n",
    "\n",
    "$$u\\left ( t_k \\right ) = K_{p}e\\left ( t_{k} \\right )+K_{i}\\sum_{i=0}^{k}e\\left ( t_{i} \\right )\\Delta t+K_{d}\\frac{e\\left ( t_{k} \\right )-e\\left ( t_{k-1} \\right )}{\\Delta t}+K$$\n",
    "\n",
    "### Altitude Control\n",
    "Suppose you are implementing an altitude PID controller for your drone (i.e. up/down movement).\n",
    "\n",
    "\n",
    "1. If the *setpoint* is the desired height of the drone, then what is the *process variable*, the *error* and the *control variable* for the altitude PID controller?\n",
    "2. What could happen if $K$ is set too high?\n",
    "\n",
    "\n",
    "**Note:** We are looking only for a higher level description to demonstrate understanding of the PID controllers.\n",
    "\n",
    "### Velocity Control\n",
    "Suppose you are implementing a velocity PID controller for your drone. In this case, the drone only moves forward/backward and left/right. Your (hypothetical) controller is implemented so that when 'L' is pressed, the drone moves left at a constant velocity, and when 'L' is released, the drone stops moving.\n",
    "\n",
    "1. What is the *setpoint*, *process variable*, *error* and *control variable* for the velocity PID controller?\n",
    "2. How do these key terms change to cause the drone to move when you press ‘L’?\n",
    "\n",
    "**Note:** We are looking only for a higher level description to demonstrate understanding of the PID controllers.\n",
    "\n",
    "\n",
    "## Handin\n",
    "\n",
    "In the folder you cloned at the beginning of the exercise, you'll find a template `answers.tex` files for your answers. Commit the\n",
    "files to hand in.\n",
    "\n",
    "Your handin should contain the following files:\n",
    "\n",
    "* `answers.tex`\n",
    "* `answers.pdf`\n"
   ]
  }
 ],
 "metadata": {
  "kernelspec": {
   "display_name": "Python 3.8.10 64-bit",
   "language": "python",
   "name": "python3"
  },
  "language_info": {
   "name": "python",
   "version": "3.8.10"
  },
  "orig_nbformat": 4,
  "vscode": {
   "interpreter": {
    "hash": "916dbcbb3f70747c44a77c7bcd40155683ae19c65e1c03b4aa3499c5328201f1"
   }
  }
 },
 "nbformat": 4,
 "nbformat_minor": 2
}
